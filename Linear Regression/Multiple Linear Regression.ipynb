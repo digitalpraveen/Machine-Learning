{
 "cells": [
  {
   "cell_type": "markdown",
   "metadata": {},
   "source": [
    " "
   ]
  },
  {
   "cell_type": "markdown",
   "metadata": {},
   "source": [
    "# Multiple Linear Regression"
   ]
  },
  {
   "cell_type": "code",
   "execution_count": 1,
   "metadata": {},
   "outputs": [],
   "source": [
    "#import libraries\n",
    "import numpy as np\n",
    "import pandas as pd\n",
    "import matplotlib.pyplot as plt\n",
    "import seaborn as sns\n",
    "%matplotlib inline"
   ]
  },
  {
   "cell_type": "code",
   "execution_count": 2,
   "metadata": {},
   "outputs": [],
   "source": [
    "companies = pd.read_csv('/home/praveen/Desktop/Python/Machine learning/Linear Regression/datasets/1000_Companies.csv')\n",
    "x = companies.iloc[:,:-1].values\n",
    "y = companies.iloc[:,4].values"
   ]
  },
  {
   "cell_type": "code",
   "execution_count": 3,
   "metadata": {},
   "outputs": [
    {
     "data": {
      "text/html": [
       "<div>\n",
       "<style scoped>\n",
       "    .dataframe tbody tr th:only-of-type {\n",
       "        vertical-align: middle;\n",
       "    }\n",
       "\n",
       "    .dataframe tbody tr th {\n",
       "        vertical-align: top;\n",
       "    }\n",
       "\n",
       "    .dataframe thead th {\n",
       "        text-align: right;\n",
       "    }\n",
       "</style>\n",
       "<table border=\"1\" class=\"dataframe\">\n",
       "  <thead>\n",
       "    <tr style=\"text-align: right;\">\n",
       "      <th></th>\n",
       "      <th>R&amp;D Spend</th>\n",
       "      <th>Administration</th>\n",
       "      <th>Marketing Spend</th>\n",
       "      <th>State</th>\n",
       "      <th>Profit</th>\n",
       "    </tr>\n",
       "  </thead>\n",
       "  <tbody>\n",
       "    <tr>\n",
       "      <th>0</th>\n",
       "      <td>165349.20</td>\n",
       "      <td>136897.80</td>\n",
       "      <td>471784.10</td>\n",
       "      <td>New York</td>\n",
       "      <td>192261.83</td>\n",
       "    </tr>\n",
       "    <tr>\n",
       "      <th>1</th>\n",
       "      <td>162597.70</td>\n",
       "      <td>151377.59</td>\n",
       "      <td>443898.53</td>\n",
       "      <td>California</td>\n",
       "      <td>191792.06</td>\n",
       "    </tr>\n",
       "    <tr>\n",
       "      <th>2</th>\n",
       "      <td>153441.51</td>\n",
       "      <td>101145.55</td>\n",
       "      <td>407934.54</td>\n",
       "      <td>Florida</td>\n",
       "      <td>191050.39</td>\n",
       "    </tr>\n",
       "    <tr>\n",
       "      <th>3</th>\n",
       "      <td>144372.41</td>\n",
       "      <td>118671.85</td>\n",
       "      <td>383199.62</td>\n",
       "      <td>New York</td>\n",
       "      <td>182901.99</td>\n",
       "    </tr>\n",
       "    <tr>\n",
       "      <th>4</th>\n",
       "      <td>142107.34</td>\n",
       "      <td>91391.77</td>\n",
       "      <td>366168.42</td>\n",
       "      <td>Florida</td>\n",
       "      <td>166187.94</td>\n",
       "    </tr>\n",
       "  </tbody>\n",
       "</table>\n",
       "</div>"
      ],
      "text/plain": [
       "   R&D Spend  Administration  Marketing Spend       State     Profit\n",
       "0  165349.20       136897.80        471784.10    New York  192261.83\n",
       "1  162597.70       151377.59        443898.53  California  191792.06\n",
       "2  153441.51       101145.55        407934.54     Florida  191050.39\n",
       "3  144372.41       118671.85        383199.62    New York  182901.99\n",
       "4  142107.34        91391.77        366168.42     Florida  166187.94"
      ]
     },
     "execution_count": 3,
     "metadata": {},
     "output_type": "execute_result"
    }
   ],
   "source": [
    "companies.head()"
   ]
  },
  {
   "cell_type": "code",
   "execution_count": 4,
   "metadata": {},
   "outputs": [
    {
     "data": {
      "text/plain": [
       "<matplotlib.axes._subplots.AxesSubplot at 0x7f2c97091c90>"
      ]
     },
     "execution_count": 4,
     "metadata": {},
     "output_type": "execute_result"
    },
    {
     "data": {
      "image/png": "[encoded data removed]",
      "text/plain": [
       "<Figure size 432x288 with 2 Axes>"
      ]
     },
     "metadata": {
      "needs_background": "light"
     },
     "output_type": "display_data"
    }
   ],
   "source": [
    "# building corelation matrix\n",
    "sns.heatmap(companies.corr())"
   ]
  },
  {
   "cell_type": "code",
   "execution_count": 5,
   "metadata": {},
   "outputs": [
    {
     "name": "stdout",
     "output_type": "stream",
     "text": [
      "[[0.0000000e+00 0.0000000e+00 0.0000000e+00 ... 1.3689780e+05\n",
      "  4.7178410e+05 2.0000000e+00]\n",
      " [0.0000000e+00 0.0000000e+00 0.0000000e+00 ... 1.5137759e+05\n",
      "  4.4389853e+05 0.0000000e+00]\n",
      " [0.0000000e+00 0.0000000e+00 0.0000000e+00 ... 1.0114555e+05\n",
      "  4.0793454e+05 1.0000000e+00]\n",
      " ...\n",
      " [0.0000000e+00 0.0000000e+00 0.0000000e+00 ... 2.4192631e+05\n",
      "  2.2714282e+05 0.0000000e+00]\n",
      " [0.0000000e+00 0.0000000e+00 0.0000000e+00 ... 3.2165214e+05\n",
      "  2.8169232e+05 0.0000000e+00]\n",
      " [0.0000000e+00 0.0000000e+00 0.0000000e+00 ... 2.7093986e+05\n",
      "  2.9544217e+05 2.0000000e+00]]\n"
     ]
    }
   ],
   "source": [
    "# encoding categorial data\n",
    "from sklearn.preprocessing import LabelEncoder, OneHotEncoder\n",
    "from sklearn.compose import ColumnTransformer\n",
    "\n",
    "labelencoder = LabelEncoder()\n",
    "x[:,3] = labelencoder.fit_transform(x[:,3])\n",
    "\n",
    "onehotencoder = ColumnTransformer([(\"State\", OneHotEncoder(), [0])], remainder = 'passthrough')\n",
    "x = onehotencoder.fit_transform(x).toarray()\n",
    "print(x)"
   ]
  },
  {
   "cell_type": "code",
   "execution_count": 6,
   "metadata": {},
   "outputs": [
    {
     "name": "stdout",
     "output_type": "stream",
     "text": [
      "[[0.0000000e+00 0.0000000e+00 0.0000000e+00 ... 1.3689780e+05\n",
      "  4.7178410e+05 2.0000000e+00]\n",
      " [0.0000000e+00 0.0000000e+00 0.0000000e+00 ... 1.5137759e+05\n",
      "  4.4389853e+05 0.0000000e+00]\n",
      " [0.0000000e+00 0.0000000e+00 0.0000000e+00 ... 1.0114555e+05\n",
      "  4.0793454e+05 1.0000000e+00]\n",
      " ...\n",
      " [0.0000000e+00 0.0000000e+00 0.0000000e+00 ... 2.4192631e+05\n",
      "  2.2714282e+05 0.0000000e+00]\n",
      " [0.0000000e+00 0.0000000e+00 0.0000000e+00 ... 3.2165214e+05\n",
      "  2.8169232e+05 0.0000000e+00]\n",
      " [0.0000000e+00 0.0000000e+00 0.0000000e+00 ... 2.7093986e+05\n",
      "  2.9544217e+05 2.0000000e+00]]\n"
     ]
    }
   ],
   "source": [
    "#avoiding dummy variable trap\n",
    "x = x[:,1:]\n",
    "print(x)"
   ]
  },
  {
   "cell_type": "code",
   "execution_count": 7,
   "metadata": {},
   "outputs": [
    {
     "data": {
      "text/plain": [
       "array([[0.00000000e+00, 0.00000000e+00, 0.00000000e+00, ...,\n",
       "        1.16125967e+05, 1.42843002e+05, 0.00000000e+00],\n",
       "       [0.00000000e+00, 0.00000000e+00, 0.00000000e+00, ...,\n",
       "        1.29007753e+05, 3.11143877e+05, 1.00000000e+00],\n",
       "       [0.00000000e+00, 0.00000000e+00, 0.00000000e+00, ...,\n",
       "        1.25420790e+05, 2.64280115e+05, 0.00000000e+00],\n",
       "       ...,\n",
       "       [0.00000000e+00, 0.00000000e+00, 0.00000000e+00, ...,\n",
       "        1.13835527e+05, 1.12918344e+05, 0.00000000e+00],\n",
       "       [0.00000000e+00, 0.00000000e+00, 0.00000000e+00, ...,\n",
       "        1.20317403e+05, 1.97604218e+05, 0.00000000e+00],\n",
       "       [0.00000000e+00, 0.00000000e+00, 0.00000000e+00, ...,\n",
       "        1.27013716e+05, 2.85091731e+05, 0.00000000e+00]])"
      ]
     },
     "execution_count": 7,
     "metadata": {},
     "output_type": "execute_result"
    }
   ],
   "source": [
    "# spliting the data into train and test\n",
    "from sklearn.model_selection import train_test_split\n",
    "x_train,x_test,y_train,y_test = train_test_split(x,y,test_size=0.2,random_state = 0)\n",
    "x_train"
   ]
  },
  {
   "cell_type": "code",
   "execution_count": 8,
   "metadata": {},
   "outputs": [
    {
     "data": {
      "text/plain": [
       "LinearRegression(copy_X=True, fit_intercept=True, n_jobs=None, normalize=False)"
      ]
     },
     "execution_count": 8,
     "metadata": {},
     "output_type": "execute_result"
    }
   ],
   "source": [
    "#fiting multiple linear regression to the training set\n",
    "from sklearn.linear_model import LinearRegression\n",
    "regressor = LinearRegression()\n",
    "regressor.fit(x_train,y_train)"
   ]
  },
  {
   "cell_type": "code",
   "execution_count": 9,
   "metadata": {},
   "outputs": [
    {
     "data": {
      "text/plain": [
       "array([ 59465.69818789,  57709.67333184,  66038.9108609 , 184076.81404502,\n",
       "        77878.42604477, 112856.36115718, 185665.50784973,  61632.82494296,\n",
       "       182432.07224976,  26370.54252862,  30050.90256966, 151733.46863055,\n",
       "       107276.20658605,  20247.44414587, 172439.20106758,  67452.78918816,\n",
       "       110112.69873619, 155775.20054334, 205989.94078625, 204933.28044091,\n",
       "       144640.93491322,  54158.94512653, 190917.46419762,  52195.15900199,\n",
       "        79060.45884672,  74202.38138629,  41351.55437405,  43711.6442756 ,\n",
       "        32557.29917433, 252560.50145968, 113371.6771826 ,  87713.49433349,\n",
       "       101157.63379001, 135497.14680163,  26212.8446375 ,  84021.31144208,\n",
       "       210014.59028717, 178618.66019297, 182741.83726799, 109370.06254657,\n",
       "        95031.99181416, 156905.73125657,  82561.45698263,  22470.59791326,\n",
       "       107879.26511566,  19339.04118244, 161843.04333375,  58976.90481902,\n",
       "       163531.65613578, 126712.60277132, 195924.73165751, 182696.52779897,\n",
       "        64559.16447725,  71348.31278626, 193121.46787323,  66601.08027591,\n",
       "       141861.49330153, 190186.65109999,  79106.20684089, 106076.49236645,\n",
       "       140263.49964434,  38104.30019408, 126500.75417712, 149694.20165748,\n",
       "        70417.368973  , 104109.72434933, 133696.58406841, 166383.61968746,\n",
       "        46265.56065324, 182279.90011248, 104325.55473435, 161559.36265299,\n",
       "        75381.20395172, 171579.86156407,  52404.02542015,  70751.55184454,\n",
       "       112902.00418428,  90716.5250794 , 122866.03715897, 128769.55140789,\n",
       "       178239.60641661, 124234.16724638, 107444.62220832, 144270.97309702,\n",
       "       150793.78911462, 112342.48363289,  33557.42649415,  83978.65055301,\n",
       "       124299.36896201, 161674.73271778, 173828.76683179,  19210.84808118,\n",
       "        91137.57315902, 102898.52031171,  43292.80627397, 108790.64999416,\n",
       "       147594.8199469 , 166394.67094167, 186567.40548352,  96761.05545079,\n",
       "       113351.78518091, 136876.32789775, 173328.1506162 , 114895.62816921,\n",
       "        82617.15112005,  92784.52500855,  93233.97269321, 200194.55536542,\n",
       "       178142.68985259, 111902.6484949 , 156650.45018088, 159937.05639452,\n",
       "       173939.27801681, 195549.76492329, 163015.90162382,  11186.62168549,\n",
       "       171697.67027345,  78733.34519348,  50347.409812  , 149326.19888953,\n",
       "       143630.77922121, 166044.68343348, 176325.55064469, 112949.52399145,\n",
       "       162440.90938717,  85767.39015604, 188971.02646225,  22079.72170016,\n",
       "       148643.90570485, 147526.63633881, 195200.54921424, 171740.10306339,\n",
       "        77397.26351193,  80742.87931284, 126192.4276209 , 184132.84149445,\n",
       "       113891.08049521, 220848.44695019,  87263.38002445,  63556.49354514,\n",
       "       173893.52998391,  74919.59986309,  61259.73519633,  86685.07262179,\n",
       "        49334.45973198,  59205.3299266 ,  51551.64988344, 171666.72701768,\n",
       "        73353.32129947, 178344.08706962,  77175.90762257,  41939.66230402,\n",
       "       166415.22956785,  22251.01421965, 175493.40038318, 158190.97768082,\n",
       "       170869.60709257,  89407.29936611, 204322.15279486,  52745.17201268,\n",
       "        61367.59780146, 118707.49675756,  54067.6590731 ,  62893.09246369,\n",
       "        48505.62494375, 195162.20346643, 184857.02389924, 175105.17234024,\n",
       "       152505.60936854, 169571.8711588 ,  45859.98397555,  74530.26687705,\n",
       "       167349.48854731, 174697.71888183,  63807.02091583, 107300.18587541,\n",
       "        60968.3187112 , 163413.07562713, 120886.113085  , 111495.52834907,\n",
       "       182600.38286569, 514591.91606091, 132203.13781226, 164466.24846574,\n",
       "        68720.68705454,  47934.61456684,  48101.48672047,  32734.11718706,\n",
       "       125856.9117847 ,  85947.9621438 , 172670.94162497, 105472.66199943,\n",
       "        57012.78562752, 120547.40712466,  96495.8283092 , 157479.28499249,\n",
       "       175029.25292774, 133154.64021275, 152553.12913724, 110943.4102899 ])"
      ]
     },
     "execution_count": 9,
     "metadata": {},
     "output_type": "execute_result"
    }
   ],
   "source": [
    "#predicting the test set results\n",
    "y_pred = regressor.predict(x_test)\n",
    "y_pred"
   ]
  },
  {
   "cell_type": "code",
   "execution_count": 10,
   "metadata": {},
   "outputs": [
    {
     "name": "stdout",
     "output_type": "stream",
     "text": [
      "[ 1.72770743e+05 -5.65686268e-05  1.52509591e+04  1.52374147e+04\n",
      " -7.21595107e+04  1.51458647e+04 -4.40286822e-04  4.07083976e+04\n",
      "  4.07056384e+04  1.49028185e+04  2.77613381e+04  2.77583282e+04\n",
      "  1.48830035e+04  4.06080687e+04  1.47809191e+04  4.81046072e-07\n",
      "  4.04385134e+04  1.46592706e+04  1.46183866e+04  2.74676258e+04\n",
      "  4.03176172e+04  4.02717170e+04  2.22862582e-07  4.01982262e+04\n",
      "  1.43387203e+04  1.43246744e+04  1.42747609e+04  5.60066837e-08\n",
      "  3.99288436e+04  2.69439099e+04  2.69266033e+04  2.69012702e+04\n",
      "  1.40254440e+04  1.40091405e+04  1.38235326e+04  2.66762832e+04\n",
      "  1.38062258e+04  2.66411680e+04  2.66105678e+04  1.37369991e+04\n",
      "  1.36206179e+04  1.36153505e+04  1.35772255e+04  1.35594172e+04\n",
      "  3.91979491e+04  1.68380211e-07  3.90110869e+04  3.90073245e+04\n",
      "  1.32784969e+04  3.89885129e+04 -1.95796019e-08  3.89476289e+04\n",
      "  3.89253059e+04  3.89029826e+04  1.31407958e+04  2.59446360e+04\n",
      "  2.59218113e+04  2.17587512e-08 -3.26839711e-09  3.85987359e+04\n",
      "  3.85859441e+04 -1.76041794e-08  2.55914792e+04  2.30256774e-07\n",
      "  3.84211541e+04 -3.75148375e-08  3.83687323e+04  3.82917301e+04\n",
      "  2.54159039e+04  2.53970924e+04  3.82573675e+04  3.81710848e+04\n",
      "  3.81329600e+04  2.52634043e+04  3.81219237e+04  3.80697530e+04\n",
      "  3.80451724e+04  2.34145773e-07  7.18709998e-08  2.50918421e+04\n",
      "  1.22157653e+04  1.29230102e-07  2.49446098e+04  3.77860734e+04\n",
      " -1.58537773e-07  2.48164399e+04  2.47908562e+04  1.17602729e+04\n",
      "  1.16830199e+04  7.53782512e+03  2.44567617e+04  1.14274325e+04\n",
      " -1.07513188e-07  1.13451630e+04  3.69889620e+04  2.41010965e+04\n",
      "  2.40800275e+04  1.11833828e+04  2.40318695e+04  2.39230129e+04\n",
      "  3.67213352e+04  2.38282024e+04  3.66638970e+04 -1.00306352e-07\n",
      "  2.37419197e+04  2.37328900e+04  1.08427670e+04  2.36787126e+04\n",
      "  2.36719404e+04  1.08033879e+04  1.07928535e+04  1.07293956e+04\n",
      "  1.07171054e+04  2.35369983e+04  2.35136718e+04  2.34928536e+04\n",
      "  2.34770519e+04  1.05718796e+04  4.70572559e-08  1.12156475e+05\n",
      "  3.61978702e+04  1.03815058e+04  3.59505599e+04 -2.49744971e-08\n",
      "  1.01976534e+04  2.30057578e+04  1.00652196e+04  2.28984061e+04\n",
      " -3.58277534e+04  3.56683855e+04 -1.34582287e-07  9.25156201e-08\n",
      "  3.55464861e+04  2.26608778e+04  3.55188957e+04  3.55083613e+04\n",
      "  9.77577130e+03  3.54592002e+04 -4.06726031e-09 -4.33517755e-08\n",
      "  3.53897226e+04  6.82746810e+04  9.40104368e+03  6.15600584e-08\n",
      "  3.50601429e+04  2.21920921e+04  9.77141212e-09  4.13499492e-08\n",
      "  3.49650813e+04  3.48632477e+04  2.19011388e+04  8.99571586e+03\n",
      "  3.46239637e+04  1.51154836e-07  2.17105145e+04  8.71329034e+03\n",
      "  9.74341674e-08  8.63428160e+03  2.14837715e+04  2.14609467e+04\n",
      "  8.35443608e+04  8.55702859e+03  1.20515324e-07  3.42020816e+04\n",
      " -2.15836161e+04  2.12136366e+04  1.06033645e+04  2.11679870e+04\n",
      "  8.28689351e+03  3.39979128e+04  5.11081453e-08  2.11200799e+04\n",
      "  8.20989112e+03  8.16424177e+03  3.38587068e+04  3.38291098e+04\n",
      "  3.38138095e+04  2.09419966e+04  2.07165079e+04  5.37202141e-08\n",
      "  7.80105177e+03  2.05115865e+04  2.04972897e+04  7.57079747e+03\n",
      "  3.32620018e+04  7.52765622e+03  3.32236262e+04  3.32065701e+04\n",
      "  2.03131865e+04  3.30678659e+04  7.30567881e+03  3.30018996e+04\n",
      "  2.01024963e+04  2.00244907e+04  7.15970059e+03  2.00127020e+04\n",
      "  3.28270769e+04  1.20171535e-07  7.00594693e+03 -9.80253390e-08\n",
      "  6.93145292e+03 -9.18531100e-08  1.95725098e+04  6.70721828e+03\n",
      "  1.95336325e+04  3.23352155e+04  6.54869880e+03  1.93884066e+04\n",
      "  6.52336589e+03  1.93841427e+04  6.45037678e+03  3.21726830e+04\n",
      "  3.21681683e+04  1.92966060e+04 -3.91446520e-09  1.91797230e+04\n",
      "  1.91696901e+04  6.22739619e+03  6.21134362e+03  6.12029530e+03\n",
      "  5.99964998e+03  3.16564919e+04 -8.91322998e-08  9.98059215e+04\n",
      "  3.15594237e+04 -9.90658009e-08  3.14628575e+04  5.72299377e+03\n",
      "  5.70342966e+03  1.83946509e+04  2.02523552e-07  3.15867510e-08\n",
      "  3.11809337e+04 -3.73956937e-08  1.82614645e+04 -1.59665433e-07\n",
      "  1.80424972e+04  3.08556181e+04  8.63724381e-08  3.07954208e+04\n",
      "  5.05957011e+03  3.07803715e+04 -1.35936716e-07  1.78300512e+04\n",
      "  3.05686779e+04  8.07958713e-08  1.76341596e+04  4.75181198e+03\n",
      "  1.76125888e+04  4.70892135e+03  3.04008783e+04 -1.77933543e-08\n",
      "  3.03386744e+04  3.02506359e+04  4.51528692e+03  1.78069034e+05\n",
      "  4.48167691e+03  4.41320250e+03 -1.10549081e-08  1.72594317e+04\n",
      "  3.01041560e+04  4.34422668e+03  4.34397583e+03  3.00462162e+04\n",
      "  4.22908215e-08  4.19799759e+03  2.98352752e+04  3.25337624e-09\n",
      "  1.69549342e+04  2.97545106e+04  7.27358314e+04  3.97351206e+03\n",
      "  1.68051936e+04  3.92435095e+03 -2.00287104e-07  1.67705801e+04\n",
      "  3.89826546e+03  1.67236765e+04  1.66940797e+04 -3.54571966e-07\n",
      "  3.65722592e+03  2.93785287e+04  1.81868018e-07  1.24275630e-08\n",
      "  1.64166707e+04  1.63599850e+04 -1.46819730e-08  2.91645779e+04\n",
      "  4.16303010e-08  1.62320659e+04  2.90945986e+04  8.53610800e-08\n",
      " -4.94219421e-08  1.61545621e+04  1.60574941e+04  3.17263821e+03\n",
      "  3.16335789e+03  1.29239197e-09  1.59687031e+04  1.59152781e+04\n",
      "  1.59102616e+04  3.04095679e+03  1.58663678e+04  2.98652859e+03\n",
      "  2.86757263e+04  2.85841762e+04  2.83402899e+03  2.79791059e+03\n",
      "  1.56571825e+04 -2.47043317e-07  1.55395470e+04  2.83988192e+04\n",
      "  7.37345545e-08 -7.52161213e-08  1.37664756e-07  2.80624672e+04\n",
      " -6.82539394e-08  2.79954977e+04  2.79944945e+04  1.51234340e+04\n",
      "  2.79711681e+04  2.79641450e+04  1.50973485e+04  2.79117231e+04\n",
      "  2.06701605e+03  2.04042885e+03  1.48803875e+04  1.48716089e+04\n",
      "  9.11072675e-08  1.98324170e+03  2.77060494e+04  1.47660130e+04\n",
      "  1.45673621e+04  3.81882183e+04  1.59547107e+03  4.69281076e-08\n",
      "  2.72615934e+04  1.40233835e+03  1.42367791e+04  2.70917869e+04\n",
      "  1.34138880e+03 -1.89235834e-07  2.70250683e+04  2.69917091e+04\n",
      "  2.69417957e+04  1.40561874e+04  2.68695589e+04  2.67993287e+04\n",
      "  1.06222422e+03  1.04842891e+03  1.04240926e+03  1.38961630e+04\n",
      "  1.38151476e+04  2.66701557e+04  1.37399013e+04  2.65547777e+04\n",
      "  2.65324546e+04  1.36608922e+04  7.95349808e+02  1.36548726e+04\n",
      "  1.36250247e+04  2.63475990e+04 -1.37581083e-07  2.61923402e+04\n",
      "  1.46987986e-08  1.32829040e+04  2.61165921e+04  2.60972789e+04\n",
      "  3.14644240e-08  1.31645161e+04  2.60182698e+04  2.59954451e+04\n",
      "  2.59916829e+04 -1.05243203e-07  8.37280822e-09  1.29661161e+04\n",
      "  1.28770744e+04  4.79212758e-08  1.28339329e+04  2.54658516e-09\n",
      " -7.60047683e+01 -1.39211857e+02 -1.77336860e+02  1.26513348e+04\n",
      " -2.21983320e+02  2.54882837e+04 -1.44999831e-07  2.54421323e+04\n",
      "  1.25294355e+04  1.25249207e+04  5.23649147e+04  1.25036009e+04\n",
      "  1.24975812e+04 -4.00317480e+02 -4.07842088e+02 -5.27985660e+02\n",
      " -5.54321996e+02 -1.65289293e-07  2.51012657e+04  7.22020559e-08\n",
      " -6.50637586e+02  1.61686076e+03  2.49334658e+04 -9.06995865e-08\n",
      "  2.48925821e+04 -8.69354045e+02  2.48532031e+04 -5.17287716e+04\n",
      "  8.22137736e-08  1.18900910e+04 -1.01081755e+03 -1.13504946e+05\n",
      " -1.02411121e+03 -1.04743745e+03  1.17897620e+04  1.17704487e+04\n",
      " -1.17535649e+03  2.45379201e+04 -1.21975200e+03  7.80510163e-08\n",
      "  1.16252231e+04 -1.28772464e+03  1.15670325e+04  1.15424520e+04\n",
      "  8.84070206e+03 -2.78370862e-07  1.13949688e+04  9.56879376e-08\n",
      "  1.12883695e+04  1.12040934e+04  2.40646193e+04 -1.67047878e+03\n",
      " -1.73092667e+03 -5.34055289e-08  1.09833703e+04  1.09221699e+04\n",
      "  2.37435676e+04  1.08439134e+04 -1.13563146e-07  1.07824622e+04\n",
      " -2.13249233e+03  2.35940778e+04 -2.14854482e+03  2.08575329e-07\n",
      " -2.37447807e-07  1.06186755e+04 -2.30831838e+03 -1.88822924e-07\n",
      "  1.05130796e+04 -2.41140603e+03  2.32775409e+04 -2.07020094e-07\n",
      " -1.39076292e-07  2.31837335e+04  5.38148015e-09  2.31012133e+04\n",
      "  2.30500454e+04 -2.71364626e+03 -2.76205473e+03 -2.77359255e+03\n",
      "  2.29018097e+04  2.28661931e+04 -2.87718219e+03  2.27809139e+04\n",
      " -3.07842137e+04 -3.07482963e+03  9.98952601e-08  2.25376168e+04\n",
      " -3.28050341e+03 -2.26599649e+04 -3.35575002e+03  2.23645496e+04\n",
      " -1.56186616e-07 -3.51326605e+03  1.38746944e+04  2.21262690e+04\n",
      "  9.23589516e+03  2.20914047e+04  2.20562897e+04  2.19730169e+04\n",
      "  9.09894642e+03  7.48699721e+04  2.19248592e+04  1.66300668e+04\n",
      "  2.16956080e+04 -4.07385269e+03  2.16283880e+04 -1.17369695e+05\n",
      "  1.33031790e-07  2.15621708e+04  2.15461183e+04 -4.18622056e+03\n",
      "  7.11041821e-08  2.14671096e+04  1.34075663e-07 -4.30711678e+03\n",
      "  2.13161149e+04 -4.48444782e+03 -4.50351025e+03 -1.09300572e-07\n",
      " -8.98662620e-08  2.11232330e+04  2.94317033e-08 -4.73150727e+03\n",
      "  5.87533577e-09  2.09574398e+04  2.09371231e+04 -4.97054041e+03\n",
      " -5.12830714e+03  2.05235182e+04  7.60906547e+03 -5.26901824e+03\n",
      "  2.03466889e+04  1.54408553e-07 -1.03556886e-07  9.29203452e-08\n",
      "  2.02669275e+04  2.94348865e-08  1.62957804e-07  7.35172220e+03\n",
      "  2.01573183e+04  1.48111212e-07  2.00815702e+04  7.14855656e+03\n",
      "  7.14604855e+03  2.00060730e+04  6.79392542e-09  7.01787857e+03\n",
      "  6.90651361e+03  6.89949080e+03  1.96935491e+04  1.00970411e+04\n",
      "  1.95806791e+04  6.63587704e+03 -6.30365795e+03  1.93770120e+04\n",
      "  6.50595135e+03 -7.36326911e-09  1.93283526e+04  1.91946645e+04\n",
      "  1.75256901e-07  6.20521612e+03  1.90489372e+04 -6.82812615e+03\n",
      "  5.97872420e+03  5.92906137e+03 -6.94450736e+03  5.86133958e+03\n",
      " -1.03339062e-07 -7.03655889e+03 -7.05913283e+03  5.78784868e+03\n",
      " -7.12886127e+03  1.85711216e+04  1.85583298e+04 -5.70216798e-08\n",
      " -7.29064136e+03 -7.33378262e+03 -7.33478612e+03 -7.35786155e+03\n",
      " -7.40852753e+03  7.48752850e+03  1.82593503e+04 -5.66831810e+03\n",
      "  5.31580230e+03 -7.56278289e+03  1.81259131e+04  1.80815178e+04\n",
      "  1.80418878e+04  1.80215714e+04 -7.72832523e+03 -7.90440223e+03\n",
      "  1.78123859e+04  4.94533849e+03 -7.92145790e+03  9.89626831e+03\n",
      "  5.73320449e-08  1.76646520e+04  4.75270751e+03  4.70530219e+03\n",
      "  1.75445083e+04 -7.53641708e+04 -8.23699175e+03  1.73867414e+04\n",
      "  1.73353230e+04  4.44545082e+03 -4.35420588e-08  1.72001300e+04\n",
      " -8.67868883e+03  1.70248056e+04 -8.82642284e+03  3.92223663e+03\n",
      "  3.79707655e+03 -9.07247904e+03  1.66257483e+04  3.58588471e+03\n",
      " -9.34211246e+03  3.51766115e+03  3.43739839e+03 -9.46978061e+03\n",
      "  2.25891561e+04  1.61253589e+04 -2.49137884e-08 -9.65338212e+03\n",
      "  1.60501123e+04 -9.67946760e+03  1.12671913e+05 -9.83322127e+03\n",
      "  1.58705240e+04  1.58557255e+04  2.93976789e+03  2.87154443e+03\n",
      "  6.34430780e+04  1.56663552e+04  1.56578272e+04  2.71728907e+03\n",
      " -1.01638045e+04  2.63802946e+03  1.53194686e+04  2.39573556e+03\n",
      "  2.38143875e+03 -4.73137334e-08  9.60380362e-08  1.51401312e+04\n",
      "  2.23646369e+03 -2.00890099e-07  2.08271016e+03 -1.07981325e+04\n",
      "  2.05185903e+03  1.49121342e+04  1.59102456e-07 -1.48138497e-08\n",
      "  2.00069125e+03  2.07028279e-07 -1.64849553e-07  1.84242292e+03\n",
      " -1.60377795e-07 -1.11277124e+04 -1.12222721e+04  1.63800324e+03\n",
      "  1.44912553e+04  1.44227811e+04  1.44029661e+04 -1.67166945e-07\n",
      "  7.98063411e-08  1.43206965e+04  1.43199441e+04  1.42928555e+04\n",
      "  2.80656877e-07 -1.14675758e+04  3.65671440e-08  1.42296482e+04\n",
      " -1.15262682e+04  1.41814904e+04  1.29839056e+03  1.41438671e+04\n",
      " -2.18444029e-07  1.17925014e+03  1.17398283e+03  1.39223917e+04\n",
      " -1.18244951e+04 -1.18836892e+04 -1.18849432e+04  9.55768068e+02\n",
      "  6.59774742e-08 -1.19489026e+04 -7.67095116e-08 -1.19897866e+04\n",
      "  8.69485342e+02 -1.20118590e+04 -1.20512379e+04  1.35973267e+04\n",
      "  1.35958218e+04  7.08959470e+02  5.26110264e+02 -1.25177394e-07\n",
      "  4.83219895e+02 -1.23865867e+04 -1.24111672e+04 -1.24781367e+04\n",
      " -1.25471125e+04  1.31651609e+04  1.31646591e+04  2.96608536e+02\n",
      "  1.30866536e+04  1.78645678e-07  1.29083193e+04  3.50014603e+01\n",
      " -1.39088515e+01 -1.29040318e+04 -1.41160854e-07 -1.29717539e+04\n",
      " -1.30605446e+04 -2.52440292e+02 -7.68694361e+03  1.25579215e+04\n",
      " -3.21416394e+02 -8.81714186e-08 -5.59446032e+02 -4.09772838e-08\n",
      " -6.83352064e+02 -1.37209582e+04 -1.37786474e+04  1.19408999e+04\n",
      "  1.18776929e+04 -8.41055225e-08 -1.39913442e+04 -1.16317418e+03\n",
      "  1.16843093e+04 -1.23139773e+03  4.33296918e-08 -9.30631359e-08\n",
      "  1.15004569e+04 -1.37587098e+03 -1.42960925e+04 -1.44262690e+04\n",
      "  1.62496690e-07 -4.61652689e-08 -5.06547622e-08 -1.75385928e+03\n",
      "  1.10848453e+04 -1.80904005e+03 -2.82639803e-07 -1.47152157e+04\n",
      " -1.47272552e+04  1.09815068e+04  1.09739821e+04  3.15562829e-07\n",
      " -2.07390782e+03 -1.49399520e+04  1.07826051e+04 -2.28911274e+03\n",
      " -1.52115918e+04 -2.39169894e+03  1.04570386e+04 -1.52780595e+04\n",
      " -1.53136765e+04  1.04098842e+04 -7.73070497e-12  1.03624787e+04\n",
      " -1.53676029e+04  5.54624671e+04 -2.55699042e+03  6.82121026e-12\n",
      "  1.02408302e+04 -1.55276273e+04 -2.81684173e+03 -2.84443217e+03\n",
      "  3.63797881e-12  9.91325691e+03  0.00000000e+00  9.89193693e+03\n",
      " -3.02903708e+03 -3.03932065e+03 -3.08572298e+03  9.73517356e+03\n",
      " -1.60102084e+04  9.60374292e+03 -3.63797881e-12 -3.18323146e-12\n",
      " -1.62392086e+04 -1.62886204e+04  1.81898940e-12  9.41136255e+03\n",
      " -2.27373675e-12 -1.63463095e+04  1.41042733e-12 -3.56704950e+03\n",
      "  9.24431536e+03 -2.72848411e-12 -3.67239460e+03 -3.18323146e-12\n",
      "  9.12517518e+03 -3.63797881e-12 -2.74072434e+05 -1.67195322e+04\n",
      "  8.94684064e+03 -1.67975378e+04 -3.93926903e+03  8.88338298e+03\n",
      " -1.68574842e+04 -4.01602059e+03  3.63797881e-12  8.81766760e+03\n",
      " -1.70245314e+04 -4.23423535e+03 -4.91251235e+04 -4.34986416e+03\n",
      " -4.35613472e+03 -4.40755329e+03 -1.72991813e+04 -4.45621271e+03\n",
      " -1.73285274e+04 -4.47627830e+03 -1.73543620e+04 -4.57811209e+03\n",
      "  0.00000000e+00 -1.74551923e+04  8.26711382e+03 -1.75030992e+04\n",
      " -4.64959634e+03  0.00000000e+00 -1.75479964e+04 -1.75600357e+04\n",
      " -4.72860510e+03 -4.80109250e+03 -1.77290897e+04 -1.77408783e+04\n",
      " -1.77524162e+04 -4.96287259e+03 -1.78311741e+04  7.81488218e+03\n",
      " -1.79457997e+04  7.77776058e+03 -1.79718852e+04  0.00000000e+00\n",
      " -5.17908104e+03 -1.80594219e+04 -5.20240728e+03  7.62551190e+03\n",
      " -5.30047861e+03  3.55136384e+04  0.00000000e+00  0.00000000e+00\n",
      " -5.43165840e+03  0.00000000e+00 -1.83092403e+04  7.40503964e+03\n",
      "  7.32552918e+03 -5.54402655e+03  0.00000000e+00 -1.84584793e+04\n",
      " -1.85011190e+04 -5.66316697e+03  0.00000000e+00  0.00000000e+00\n",
      "  0.00000000e+00 -1.86481005e+04  7.06442380e+03 -1.87689966e+04\n",
      "  6.94603569e+03 -1.89041896e+04 -1.89082026e+04  0.00000000e+00\n",
      " -6.09759014e+03  0.00000000e+00  6.67765662e+03  6.57331472e+03\n",
      "  6.53920292e+03  0.00000000e+00 -6.33035277e+03  6.52917006e+03\n",
      " -1.92006608e+04  0.00000000e+00  0.00000000e+00 -1.94457136e+04\n",
      "  6.27157619e+03  0.00000000e+00 -1.95081684e+04  6.15368977e+03\n",
      "  0.00000000e+00 -1.96089986e+04 -6.76452503e+03  6.09800754e+03\n",
      "  0.00000000e+00 -6.85231262e+03  0.00000000e+00  5.96933596e+03\n",
      "  5.96632616e+03 -6.92103790e+03  0.00000000e+00  5.93497335e+03\n",
      " -6.96844322e+03  5.89534336e+03 -6.97070048e+03 -1.98500382e+04\n",
      "  5.86750242e+03 -1.98645859e+04 -7.02136656e+03  0.00000000e+00\n",
      "  5.66734658e+03  7.79044391e+04 -2.00968468e+04  5.63147912e+03\n",
      "  5.60740019e+03  0.00000000e+00  0.00000000e+00 -7.45905057e+03\n",
      "  5.35206368e+03 -2.03945723e+04  5.31067792e+03 -7.58120080e+03\n",
      "  0.00000000e+00 -7.61882390e+03 -7.67902114e+03  8.24534639e+03\n",
      "  5.06813348e+03 -2.06930501e+04  5.00016088e+03  4.95501272e+03\n",
      " -2.08124414e+04 -7.95868743e+03 -7.96721540e+03  4.80978706e+03\n",
      " -2.09401095e+04  4.78646057e+03 -8.12949707e+03 -8.13300862e+03\n",
      " -8.23007651e+03 -8.24061118e+03  0.00000000e+00  0.00000000e+00\n",
      "  0.00000000e+00  0.00000000e+00  0.00000000e+00  0.00000000e+00\n",
      " -8.39235820e+03 -8.39436485e+03  4.30112054e+03 -8.61308131e+03\n",
      "  0.00000000e+00 -2.16356384e+04  0.00000000e+00  0.00000000e+00\n",
      "  4.05732175e+03 -2.16945813e+04  0.00000000e+00  4.00113781e+03\n",
      "  0.00000000e+00 -8.98479909e+03  3.82355596e+03  3.76185383e+03\n",
      " -2.19684787e+04  3.71269270e+03  3.58301782e+03  0.00000000e+00\n",
      " -2.21663771e+04 -2.22140333e+04 -2.22263234e+04  0.00000000e+00\n",
      " -9.53209211e+03  3.25694966e+03  3.19625068e+03 -2.25581607e+04\n",
      " -2.25965363e+04 -9.89202146e+03  6.27526812e+04 -1.01077281e+04\n",
      "  2.72094354e+03 -2.30505235e+04 -1.02183405e+04  0.00000000e+00\n",
      "  0.00000000e+00 -1.02622343e+04  0.00000000e+00 -1.03974271e+04\n",
      "  2.46259719e+03 -2.33051078e+04 -1.04553671e+04  2.39587859e+03\n",
      "  2.38810313e+03  2.37681616e+03  0.00000000e+00 -1.04960002e+04\n",
      "  2.26570206e+03 -1.06038534e+04 -2.34919700e+04 -1.06369619e+04\n",
      " -2.35125373e+04 -1.06788492e+04 -2.35764969e+04 -2.36720600e+04\n",
      "  1.98754091e+03 -2.37513196e+04 -2.37713854e+04  1.92383212e+03\n",
      " -2.40548139e+04  0.00000000e+00  1.62836419e+03  1.50596298e+03\n",
      "  0.00000000e+00  1.48690065e+03  1.47210217e+03 -2.42675107e+04\n",
      " -1.14606606e+04 -1.14671820e+04 -2.43585590e+04 -1.15085674e+04\n",
      " -1.15098215e+04 -2.43846445e+04  1.28398586e+03 -1.16036290e+04\n",
      "  0.00000000e+00  0.00000000e+00  0.00000000e+00 -6.12223314e+04\n",
      "  2.45430673e+00  3.84891869e-01  1.28642884e+04]\n"
     ]
    }
   ],
   "source": [
    "# cacluclting coefficient\n",
    "print(regressor.coef_)"
   ]
  },
  {
   "cell_type": "code",
   "execution_count": 11,
   "metadata": {},
   "outputs": [
    {
     "name": "stdout",
     "output_type": "stream",
     "text": [
      "-289819.47086673736\n"
     ]
    }
   ],
   "source": [
    "print(regressor.intercept_)"
   ]
  },
  {
   "cell_type": "code",
   "execution_count": 12,
   "metadata": {},
   "outputs": [
    {
     "data": {
      "text/plain": [
       "0.78959582241224"
      ]
     },
     "execution_count": 12,
     "metadata": {},
     "output_type": "execute_result"
    }
   ],
   "source": [
    "# calculating the R square value\n",
    "from sklearn.metrics import r2_score\n",
    "r2_score(y_test,y_pred)"
   ]
  },
  {
   "cell_type": "code",
   "execution_count": null,
   "metadata": {},
   "outputs": [],
   "source": []
  }
 ],
 "metadata": {
  "kernelspec": {
   "display_name": "Python 3",
   "language": "python",
   "name": "python3"
  },
  "language_info": {
   "codemirror_mode": {
    "name": "ipython",
    "version": 3
   },
   "file_extension": ".py",
   "mimetype": "text/x-python",
   "name": "python",
   "nbconvert_exporter": "python",
   "pygments_lexer": "ipython3",
   "version": "3.7.6"
  }
 },
 "nbformat": 4,
 "nbformat_minor": 4
}
